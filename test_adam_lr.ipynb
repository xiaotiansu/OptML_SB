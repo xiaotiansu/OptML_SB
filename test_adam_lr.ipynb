{
 "cells": [
  {
   "cell_type": "code",
   "execution_count": 29,
   "id": "32cd5bec",
   "metadata": {},
   "outputs": [],
   "source": [
    "import torch\n",
    "import torch.nn as nn\n",
    "from torch.utils.data import DataLoader, Dataset\n",
    "from torch.functional import F\n",
    "from torchvision.transforms import functional\n",
    "import random\n",
    "import torch.optim as optim\n",
    "from tqdm.notebook import tqdm\n",
    "import torchvision\n",
    "from time import time\n",
    "import torch.optim.lr_scheduler as S\n",
    "import math\n",
    "import random\n",
    "import matplotlib.pyplot as plt\n",
    "import numpy as np"
   ]
  },
  {
   "cell_type": "code",
   "execution_count": 30,
   "id": "0977ec95",
   "metadata": {},
   "outputs": [
    {
     "data": {
      "text/plain": [
       "True"
      ]
     },
     "execution_count": 30,
     "metadata": {},
     "output_type": "execute_result"
    }
   ],
   "source": [
    "torch.cuda.is_available()"
   ]
  },
  {
   "cell_type": "code",
   "execution_count": 23,
   "id": "62c770a6",
   "metadata": {},
   "outputs": [],
   "source": [
    "device = 'cuda'\n",
    "\n",
    "test_set = torchvision.datasets.MNIST(root = 'data/', train = False, download = True)\n",
    "test_input = test_set.data.view(-1, 1, 28, 28).float().to(device)\n",
    "test_targets = test_set.targets.to(device)\n",
    "\n",
    "mu, std = test_input.mean(), test_input.std()\n",
    "test_input.sub_(mu).div_(std)\n",
    "\n",
    "train_set = torchvision.datasets.MNIST(root = 'data/', train = True, download = True)\n",
    "train_input = train_set.data.view(-1, 1, 28, 28).float()\n",
    "train_targets = train_set.targets"
   ]
  },
  {
   "cell_type": "code",
   "execution_count": 24,
   "id": "a8625bd6",
   "metadata": {},
   "outputs": [],
   "source": [
    "class mLeNet(nn.Module):\n",
    "    def __init__(self, use_bn=False):\n",
    "        super(mLeNet, self).__init__()\n",
    "        # 1 input image channel, 6 output channels, 5x5 square convolution\n",
    "        # kernel\n",
    "        self.conv1 = nn.Conv2d(1, 6, 5, padding = 2)\n",
    "        self.conv2 = nn.Conv2d(6, 16, 5)\n",
    "        last_channel = 16\n",
    "        self.conv3 = nn.Conv2d(16, last_channel, 2)\n",
    "        self.use_bn = use_bn\n",
    "        if self.use_bn:\n",
    "            self.conv1_bn = nn.BatchNorm2d(6)\n",
    "            self.conv2_bn = nn.BatchNorm2d(16)\n",
    "            self.conv3_bn = nn.BatchNorm2d(last_channel)\n",
    "\n",
    "        self.fc3 = nn.Linear(last_channel, 10)\n",
    "\n",
    "    def forward(self, x):\n",
    "        if self.use_bn:\n",
    "            x = F.max_pool2d(F.relu(self.conv1_bn(self.conv1(x))), 2)\n",
    "            x = F.max_pool2d(F.relu(self.conv2_bn(self.conv2(x))), 2)\n",
    "            x = F.max_pool2d(F.relu(self.conv3_bn(self.conv3(x))), 2)\n",
    "        else:\n",
    "            x = F.max_pool2d(F.relu(self.conv1(x)), 2)\n",
    "            x = F.max_pool2d(F.relu(self.conv2(x)), 2)\n",
    "            x = F.max_pool2d(F.relu(self.conv3(x)), 2)\n",
    "        x = F.adaptive_avg_pool2d(x,1)\n",
    "        x = torch.flatten(x, 1)\n",
    "        #x = F.relu(self.fc1(x))\n",
    "        #x = F.relu(self.fc2(x))\n",
    "        x = self.fc3(x)\n",
    "        return x"
   ]
  },
  {
   "cell_type": "code",
   "execution_count": 25,
   "id": "3d5c16d0",
   "metadata": {},
   "outputs": [],
   "source": [
    "def train_model(use_bn = False, lr = 0.005, optimize_method = torch.optim.Adam, seed = 0):\n",
    "    torch.manual_seed(seed)\n",
    "    torch.cuda.manual_seed(seed)\n",
    "    torch.cuda.manual_seed_all(seed)\n",
    "    np.random.seed(seed)\n",
    "    random.seed(seed)\n",
    "    torch.backends.cudnn.benchmark = False\n",
    "    torch.backends.cudnn.deterministic = True\n",
    "\n",
    "    device = 'cuda'\n",
    "    nb_epochs, batch_size = 3000, 32\n",
    "\n",
    "    model = mLeNet(use_bn = use_bn)\n",
    "    model.to(device)\n",
    "    optimizer = optimize_method(model.parameters(), lr = lr)\n",
    "    criterion = nn.CrossEntropyLoss()\n",
    "    scheduler = S.StepLR(optimizer, step_size=200, gamma=1)\n",
    "\n",
    "    train_len, attack_len = 512, 512\n",
    "    lbd = 0.2\n",
    "\n",
    "    test_acc = []\n",
    "    train_acc = []\n",
    "    l_list = []\n",
    "\n",
    "    criterion.to(device)\n",
    "\n",
    "    train_x, train_y = train_input[:train_len].to(device), train_targets[:train_len].to(device)\n",
    "    mu, std = train_x.mean(), train_x.std()\n",
    "    train_x.sub_(mu).div_(std)\n",
    "\n",
    "    attack_x, attack_y = train_input[train_len:train_len + attack_len].to(device), train_targets[train_len:train_len + attack_len].to(device)\n",
    "    mu, std = attack_x.mean(), attack_x.std()\n",
    "    attack_x.sub_(mu).div_(std)\n",
    "\n",
    "    mylist = list(range(10))\n",
    "    for i in range(attack_len):\n",
    "        n = mylist[:]\n",
    "        n.remove(attack_y[i])\n",
    "        attack_y[i] = random.choice(n)\n",
    "\n",
    "\n",
    "    train_batches = math.ceil(train_len/batch_size)\n",
    "\n",
    "    for e in tqdm(range(nb_epochs)):\n",
    "        ite = 0\n",
    "        for input, targets in zip(train_x.split(batch_size) + attack_x.split(batch_size),train_y.split(batch_size) + attack_y.split(batch_size)):\n",
    "        \n",
    "        #for input, targets in zip(train_x.split(batch_size),train_y.split(batch_size)):\n",
    "            output = model(input)\n",
    "            ite += 1\n",
    "            if ite<=train_batches:\n",
    "                loss = criterion(output, targets)\n",
    "            else:\n",
    "                loss = lbd*criterion(output, targets)\n",
    "            \n",
    "            optimizer.zero_grad()\n",
    "            loss.backward()\n",
    "            optimizer.step()\n",
    "        scheduler.step()\n",
    "        with torch.no_grad():\n",
    "            out = model(train_x)\n",
    "            _, predicted_classes = out.max(1)\n",
    "            _, predicted_classes_test = model(test_input).max(1)\n",
    "\n",
    "            l = criterion(out, train_y).item()\n",
    "            test_a = (predicted_classes_test == test_targets).to(float).mean().item()\n",
    "            train_a = (predicted_classes == train_y).to(float).mean().item()\n",
    "\n",
    "            l_list.append(l)\n",
    "            test_acc.append(test_a)\n",
    "            train_acc.append(train_a)\n",
    "            \n",
    "            if (e>=300) and (all(i >= 2 for i in l_list[-10:])):\n",
    "                return model,\"diverge\"\n",
    "                break\n",
    "            \n",
    "            print(\"epoch: %i, loss: %.4f, train_acc: %.4f, test_acc: %.4f\" %(e+1,l,train_a,test_a))\n",
    "            stats = [e+1,l,train_a,test_a]\n",
    "            if l <= 0.001:\n",
    "                return model,stats\n",
    "                break\n",
    "    return model,stats"
   ]
  },
  {
   "cell_type": "code",
   "execution_count": 26,
   "id": "1a7ff94f",
   "metadata": {},
   "outputs": [],
   "source": [
    "def H_fro_approx(model, use_bn = False, seed = 0):\n",
    "    torch.manual_seed(seed)\n",
    "    torch.cuda.manual_seed(seed)\n",
    "    torch.cuda.manual_seed_all(seed)\n",
    "    np.random.seed(seed)\n",
    "    random.seed(seed)\n",
    "    torch.backends.cudnn.benchmark = False\n",
    "    torch.backends.cudnn.deterministic = True\n",
    "\n",
    "    device = 'cuda'\n",
    "    train_len = 512\n",
    "\n",
    "    train_x, train_y = train_input[:train_len].to(device), train_targets[:train_len].to(device)\n",
    "    mu, std = train_x.mean(), train_x.std()\n",
    "    train_x.sub_(mu).div_(std)\n",
    "    m_up = mLeNet(use_bn = use_bn).to(device)\n",
    "    m_down = mLeNet(use_bn = use_bn).to(device)\n",
    "    criterion = nn.CrossEntropyLoss()\n",
    "    criterion.to(device)\n",
    "    eps = 1e-5\n",
    "    M=100\n",
    "    diffs = torch.zeros(M)\n",
    "    for i in range(M):\n",
    "        m_up.zero_grad()\n",
    "        m_down.zero_grad()\n",
    "        for po,p_up,p_down in zip(model.parameters(),m_up.parameters(),m_down.parameters()):\n",
    "            temp = torch.normal(0,1,size=po.shape).to(device)\n",
    "            p_up.data = po + eps*temp\n",
    "            p_down.data = po - eps*temp\n",
    "            #print(p_up.shape,p_down.shape)\n",
    "\n",
    "        loss_up = criterion(m_up(train_x), train_y)\n",
    "        loss_up.backward()\n",
    "\n",
    "        loss_down = criterion(m_down(train_x), train_y)\n",
    "        loss_down.backward()\n",
    "\n",
    "\n",
    "        grad_up = []\n",
    "        grad_down = []\n",
    "\n",
    "        nparams = 0\n",
    "        for p_up,p_down in zip(m_up.parameters(),m_down.parameters()):\n",
    "            grad_up.append(p_up.grad.view(-1).data)\n",
    "            grad_down.append(p_down.grad.view(-1).data)\n",
    "            \n",
    "        diffs[i] = ((torch.concat(grad_up)-torch.concat(grad_down))**2).sum()\n",
    "\n",
    "    return (diffs.sum()/(4*M*eps*eps)).sqrt().item()"
   ]
  },
  {
   "cell_type": "code",
   "execution_count": 27,
   "id": "f05b8258",
   "metadata": {
    "collapsed": true
   },
   "outputs": [
    {
     "name": "stdout",
     "output_type": "stream",
     "text": [
      "<class 'torch.optim.adam.Adam'> 0.001 0\n"
     ]
    },
    {
     "data": {
      "application/vnd.jupyter.widget-view+json": {
       "model_id": "dd2b8e281a824035900a281029bbc090",
       "version_major": 2,
       "version_minor": 0
      },
      "text/plain": [
       "  0%|          | 0/3000 [00:00<?, ?it/s]"
      ]
     },
     "metadata": {},
     "output_type": "display_data"
    },
    {
     "name": "stdout",
     "output_type": "stream",
     "text": [
      "epoch: 1, loss: 2.0254, train_acc: 0.3242, test_acc: 0.2925\n",
      "epoch: 2, loss: 1.8661, train_acc: 0.6816, test_acc: 0.4994\n",
      "epoch: 3, loss: 1.7224, train_acc: 0.7754, test_acc: 0.5911\n",
      "epoch: 4, loss: 1.5889, train_acc: 0.8242, test_acc: 0.6381\n",
      "epoch: 5, loss: 1.5070, train_acc: 0.8184, test_acc: 0.6518\n",
      "epoch: 6, loss: 1.4512, train_acc: 0.8262, test_acc: 0.6527\n",
      "epoch: 7, loss: 1.2267, train_acc: 0.8633, test_acc: 0.7197\n",
      "epoch: 8, loss: 1.1196, train_acc: 0.8984, test_acc: 0.7488\n",
      "epoch: 9, loss: 1.0473, train_acc: 0.9102, test_acc: 0.7564\n",
      "epoch: 10, loss: 0.9711, train_acc: 0.9238, test_acc: 0.7647\n",
      "epoch: 11, loss: 1.0080, train_acc: 0.9141, test_acc: 0.7300\n",
      "epoch: 12, loss: 0.8668, train_acc: 0.9258, test_acc: 0.7628\n",
      "epoch: 13, loss: 0.7474, train_acc: 0.9473, test_acc: 0.8037\n",
      "epoch: 14, loss: 0.7349, train_acc: 0.9512, test_acc: 0.8084\n",
      "epoch: 15, loss: 0.7420, train_acc: 0.9453, test_acc: 0.8020\n",
      "epoch: 16, loss: 0.6403, train_acc: 0.9609, test_acc: 0.7976\n",
      "epoch: 17, loss: 0.5621, train_acc: 0.9668, test_acc: 0.8022\n",
      "epoch: 18, loss: 0.5374, train_acc: 0.9707, test_acc: 0.8083\n",
      "epoch: 19, loss: 0.5367, train_acc: 0.9824, test_acc: 0.8006\n",
      "epoch: 20, loss: 0.5100, train_acc: 0.9746, test_acc: 0.8111\n",
      "epoch: 21, loss: 0.4387, train_acc: 0.9883, test_acc: 0.8175\n",
      "epoch: 22, loss: 0.4117, train_acc: 0.9805, test_acc: 0.8156\n",
      "epoch: 23, loss: 0.4171, train_acc: 0.9902, test_acc: 0.8065\n"
     ]
    },
    {
     "ename": "KeyboardInterrupt",
     "evalue": "",
     "output_type": "error",
     "traceback": [
      "\u001b[1;31m---------------------------------------------------------------------------\u001b[0m",
      "\u001b[1;31mKeyboardInterrupt\u001b[0m                         Traceback (most recent call last)",
      "\u001b[1;32m~\\AppData\\Local\\Temp/ipykernel_85756/3824047903.py\u001b[0m in \u001b[0;36m<module>\u001b[1;34m\u001b[0m\n\u001b[0;32m      8\u001b[0m     \u001b[1;32mfor\u001b[0m \u001b[0mll\u001b[0m\u001b[1;33m,\u001b[0m \u001b[0mseed\u001b[0m \u001b[1;32min\u001b[0m \u001b[0menumerate\u001b[0m\u001b[1;33m(\u001b[0m\u001b[0mseed_list\u001b[0m\u001b[1;33m)\u001b[0m\u001b[1;33m:\u001b[0m\u001b[1;33m\u001b[0m\u001b[1;33m\u001b[0m\u001b[0m\n\u001b[0;32m      9\u001b[0m         \u001b[0mprint\u001b[0m\u001b[1;33m(\u001b[0m\u001b[0moptimize_method\u001b[0m\u001b[1;33m,\u001b[0m\u001b[0mlr\u001b[0m\u001b[1;33m,\u001b[0m\u001b[0mseed\u001b[0m\u001b[1;33m)\u001b[0m\u001b[1;33m\u001b[0m\u001b[1;33m\u001b[0m\u001b[0m\n\u001b[1;32m---> 10\u001b[1;33m         \u001b[0mmy_model\u001b[0m\u001b[1;33m,\u001b[0m\u001b[0mstats_data\u001b[0m\u001b[1;33m[\u001b[0m\u001b[0mii\u001b[0m\u001b[1;33m,\u001b[0m\u001b[0mll\u001b[0m\u001b[1;33m]\u001b[0m \u001b[1;33m=\u001b[0m \u001b[0mtrain_model\u001b[0m\u001b[1;33m(\u001b[0m\u001b[0muse_bn\u001b[0m \u001b[1;33m=\u001b[0m \u001b[0muse_bn\u001b[0m\u001b[1;33m,\u001b[0m \u001b[0mlr\u001b[0m \u001b[1;33m=\u001b[0m \u001b[0mlr\u001b[0m\u001b[1;33m,\u001b[0m \u001b[0moptimize_method\u001b[0m \u001b[1;33m=\u001b[0m \u001b[0moptimize_method\u001b[0m\u001b[1;33m,\u001b[0m \u001b[0mseed\u001b[0m \u001b[1;33m=\u001b[0m \u001b[0mseed\u001b[0m\u001b[1;33m)\u001b[0m\u001b[1;33m\u001b[0m\u001b[1;33m\u001b[0m\u001b[0m\n\u001b[0m\u001b[0;32m     11\u001b[0m         \u001b[0mHessians\u001b[0m\u001b[1;33m[\u001b[0m\u001b[0mii\u001b[0m\u001b[1;33m,\u001b[0m\u001b[0mll\u001b[0m\u001b[1;33m]\u001b[0m \u001b[1;33m=\u001b[0m \u001b[0mH_fro_approx\u001b[0m\u001b[1;33m(\u001b[0m\u001b[0mmy_model\u001b[0m\u001b[1;33m,\u001b[0m\u001b[0muse_bn\u001b[0m \u001b[1;33m=\u001b[0m \u001b[0muse_bn\u001b[0m\u001b[1;33m,\u001b[0m \u001b[0mseed\u001b[0m \u001b[1;33m=\u001b[0m \u001b[0mseed\u001b[0m\u001b[1;33m)\u001b[0m\u001b[1;33m\u001b[0m\u001b[1;33m\u001b[0m\u001b[0m\n\u001b[0;32m     12\u001b[0m         \u001b[0mprint\u001b[0m\u001b[1;33m(\u001b[0m\u001b[0mHessians\u001b[0m\u001b[1;33m[\u001b[0m\u001b[0mii\u001b[0m\u001b[1;33m,\u001b[0m\u001b[0mll\u001b[0m\u001b[1;33m]\u001b[0m\u001b[1;33m)\u001b[0m\u001b[1;33m\u001b[0m\u001b[1;33m\u001b[0m\u001b[0m\n",
      "\u001b[1;32m~\\AppData\\Local\\Temp/ipykernel_85756/2060309803.py\u001b[0m in \u001b[0;36mtrain_model\u001b[1;34m(use_bn, lr, optimize_method, seed)\u001b[0m\n\u001b[0;32m     57\u001b[0m             \u001b[0moptimizer\u001b[0m\u001b[1;33m.\u001b[0m\u001b[0mzero_grad\u001b[0m\u001b[1;33m(\u001b[0m\u001b[1;33m)\u001b[0m\u001b[1;33m\u001b[0m\u001b[1;33m\u001b[0m\u001b[0m\n\u001b[0;32m     58\u001b[0m             \u001b[0mloss\u001b[0m\u001b[1;33m.\u001b[0m\u001b[0mbackward\u001b[0m\u001b[1;33m(\u001b[0m\u001b[1;33m)\u001b[0m\u001b[1;33m\u001b[0m\u001b[1;33m\u001b[0m\u001b[0m\n\u001b[1;32m---> 59\u001b[1;33m             \u001b[0moptimizer\u001b[0m\u001b[1;33m.\u001b[0m\u001b[0mstep\u001b[0m\u001b[1;33m(\u001b[0m\u001b[1;33m)\u001b[0m\u001b[1;33m\u001b[0m\u001b[1;33m\u001b[0m\u001b[0m\n\u001b[0m\u001b[0;32m     60\u001b[0m         \u001b[0mscheduler\u001b[0m\u001b[1;33m.\u001b[0m\u001b[0mstep\u001b[0m\u001b[1;33m(\u001b[0m\u001b[1;33m)\u001b[0m\u001b[1;33m\u001b[0m\u001b[1;33m\u001b[0m\u001b[0m\n\u001b[0;32m     61\u001b[0m         \u001b[1;32mwith\u001b[0m \u001b[0mtorch\u001b[0m\u001b[1;33m.\u001b[0m\u001b[0mno_grad\u001b[0m\u001b[1;33m(\u001b[0m\u001b[1;33m)\u001b[0m\u001b[1;33m:\u001b[0m\u001b[1;33m\u001b[0m\u001b[1;33m\u001b[0m\u001b[0m\n",
      "\u001b[1;32mD:\\Users\\Bonan\\anaconda3\\lib\\site-packages\\torch\\optim\\lr_scheduler.py\u001b[0m in \u001b[0;36mwrapper\u001b[1;34m(*args, **kwargs)\u001b[0m\n\u001b[0;32m     63\u001b[0m                 \u001b[0minstance\u001b[0m\u001b[1;33m.\u001b[0m\u001b[0m_step_count\u001b[0m \u001b[1;33m+=\u001b[0m \u001b[1;36m1\u001b[0m\u001b[1;33m\u001b[0m\u001b[1;33m\u001b[0m\u001b[0m\n\u001b[0;32m     64\u001b[0m                 \u001b[0mwrapped\u001b[0m \u001b[1;33m=\u001b[0m \u001b[0mfunc\u001b[0m\u001b[1;33m.\u001b[0m\u001b[0m__get__\u001b[0m\u001b[1;33m(\u001b[0m\u001b[0minstance\u001b[0m\u001b[1;33m,\u001b[0m \u001b[0mcls\u001b[0m\u001b[1;33m)\u001b[0m\u001b[1;33m\u001b[0m\u001b[1;33m\u001b[0m\u001b[0m\n\u001b[1;32m---> 65\u001b[1;33m                 \u001b[1;32mreturn\u001b[0m \u001b[0mwrapped\u001b[0m\u001b[1;33m(\u001b[0m\u001b[1;33m*\u001b[0m\u001b[0margs\u001b[0m\u001b[1;33m,\u001b[0m \u001b[1;33m**\u001b[0m\u001b[0mkwargs\u001b[0m\u001b[1;33m)\u001b[0m\u001b[1;33m\u001b[0m\u001b[1;33m\u001b[0m\u001b[0m\n\u001b[0m\u001b[0;32m     66\u001b[0m \u001b[1;33m\u001b[0m\u001b[0m\n\u001b[0;32m     67\u001b[0m             \u001b[1;31m# Note that the returned function here is no longer a bound method,\u001b[0m\u001b[1;33m\u001b[0m\u001b[1;33m\u001b[0m\u001b[1;33m\u001b[0m\u001b[0m\n",
      "\u001b[1;32mD:\\Users\\Bonan\\anaconda3\\lib\\site-packages\\torch\\optim\\optimizer.py\u001b[0m in \u001b[0;36mwrapper\u001b[1;34m(*args, **kwargs)\u001b[0m\n\u001b[0;32m     86\u001b[0m                 \u001b[0mprofile_name\u001b[0m \u001b[1;33m=\u001b[0m \u001b[1;34m\"Optimizer.step#{}.step\"\u001b[0m\u001b[1;33m.\u001b[0m\u001b[0mformat\u001b[0m\u001b[1;33m(\u001b[0m\u001b[0mobj\u001b[0m\u001b[1;33m.\u001b[0m\u001b[0m__class__\u001b[0m\u001b[1;33m.\u001b[0m\u001b[0m__name__\u001b[0m\u001b[1;33m)\u001b[0m\u001b[1;33m\u001b[0m\u001b[1;33m\u001b[0m\u001b[0m\n\u001b[0;32m     87\u001b[0m                 \u001b[1;32mwith\u001b[0m \u001b[0mtorch\u001b[0m\u001b[1;33m.\u001b[0m\u001b[0mautograd\u001b[0m\u001b[1;33m.\u001b[0m\u001b[0mprofiler\u001b[0m\u001b[1;33m.\u001b[0m\u001b[0mrecord_function\u001b[0m\u001b[1;33m(\u001b[0m\u001b[0mprofile_name\u001b[0m\u001b[1;33m)\u001b[0m\u001b[1;33m:\u001b[0m\u001b[1;33m\u001b[0m\u001b[1;33m\u001b[0m\u001b[0m\n\u001b[1;32m---> 88\u001b[1;33m                     \u001b[1;32mreturn\u001b[0m \u001b[0mfunc\u001b[0m\u001b[1;33m(\u001b[0m\u001b[1;33m*\u001b[0m\u001b[0margs\u001b[0m\u001b[1;33m,\u001b[0m \u001b[1;33m**\u001b[0m\u001b[0mkwargs\u001b[0m\u001b[1;33m)\u001b[0m\u001b[1;33m\u001b[0m\u001b[1;33m\u001b[0m\u001b[0m\n\u001b[0m\u001b[0;32m     89\u001b[0m             \u001b[1;32mreturn\u001b[0m \u001b[0mwrapper\u001b[0m\u001b[1;33m\u001b[0m\u001b[1;33m\u001b[0m\u001b[0m\n\u001b[0;32m     90\u001b[0m \u001b[1;33m\u001b[0m\u001b[0m\n",
      "\u001b[1;32mD:\\Users\\Bonan\\anaconda3\\lib\\site-packages\\torch\\autograd\\grad_mode.py\u001b[0m in \u001b[0;36mdecorate_context\u001b[1;34m(*args, **kwargs)\u001b[0m\n\u001b[0;32m     26\u001b[0m         \u001b[1;32mdef\u001b[0m \u001b[0mdecorate_context\u001b[0m\u001b[1;33m(\u001b[0m\u001b[1;33m*\u001b[0m\u001b[0margs\u001b[0m\u001b[1;33m,\u001b[0m \u001b[1;33m**\u001b[0m\u001b[0mkwargs\u001b[0m\u001b[1;33m)\u001b[0m\u001b[1;33m:\u001b[0m\u001b[1;33m\u001b[0m\u001b[1;33m\u001b[0m\u001b[0m\n\u001b[0;32m     27\u001b[0m             \u001b[1;32mwith\u001b[0m \u001b[0mself\u001b[0m\u001b[1;33m.\u001b[0m\u001b[0m__class__\u001b[0m\u001b[1;33m(\u001b[0m\u001b[1;33m)\u001b[0m\u001b[1;33m:\u001b[0m\u001b[1;33m\u001b[0m\u001b[1;33m\u001b[0m\u001b[0m\n\u001b[1;32m---> 28\u001b[1;33m                 \u001b[1;32mreturn\u001b[0m \u001b[0mfunc\u001b[0m\u001b[1;33m(\u001b[0m\u001b[1;33m*\u001b[0m\u001b[0margs\u001b[0m\u001b[1;33m,\u001b[0m \u001b[1;33m**\u001b[0m\u001b[0mkwargs\u001b[0m\u001b[1;33m)\u001b[0m\u001b[1;33m\u001b[0m\u001b[1;33m\u001b[0m\u001b[0m\n\u001b[0m\u001b[0;32m     29\u001b[0m         \u001b[1;32mreturn\u001b[0m \u001b[0mcast\u001b[0m\u001b[1;33m(\u001b[0m\u001b[0mF\u001b[0m\u001b[1;33m,\u001b[0m \u001b[0mdecorate_context\u001b[0m\u001b[1;33m)\u001b[0m\u001b[1;33m\u001b[0m\u001b[1;33m\u001b[0m\u001b[0m\n\u001b[0;32m     30\u001b[0m \u001b[1;33m\u001b[0m\u001b[0m\n",
      "\u001b[1;32mD:\\Users\\Bonan\\anaconda3\\lib\\site-packages\\torch\\optim\\adam.py\u001b[0m in \u001b[0;36mstep\u001b[1;34m(self, closure)\u001b[0m\n\u001b[0;32m    131\u001b[0m                     \u001b[0mstate_steps\u001b[0m\u001b[1;33m.\u001b[0m\u001b[0mappend\u001b[0m\u001b[1;33m(\u001b[0m\u001b[0mstate\u001b[0m\u001b[1;33m[\u001b[0m\u001b[1;34m'step'\u001b[0m\u001b[1;33m]\u001b[0m\u001b[1;33m)\u001b[0m\u001b[1;33m\u001b[0m\u001b[1;33m\u001b[0m\u001b[0m\n\u001b[0;32m    132\u001b[0m \u001b[1;33m\u001b[0m\u001b[0m\n\u001b[1;32m--> 133\u001b[1;33m             F.adam(params_with_grad,\n\u001b[0m\u001b[0;32m    134\u001b[0m                    \u001b[0mgrads\u001b[0m\u001b[1;33m,\u001b[0m\u001b[1;33m\u001b[0m\u001b[1;33m\u001b[0m\u001b[0m\n\u001b[0;32m    135\u001b[0m                    \u001b[0mexp_avgs\u001b[0m\u001b[1;33m,\u001b[0m\u001b[1;33m\u001b[0m\u001b[1;33m\u001b[0m\u001b[0m\n",
      "\u001b[1;32mD:\\Users\\Bonan\\anaconda3\\lib\\site-packages\\torch\\optim\\_functional.py\u001b[0m in \u001b[0;36madam\u001b[1;34m(params, grads, exp_avgs, exp_avg_sqs, max_exp_avg_sqs, state_steps, amsgrad, beta1, beta2, lr, weight_decay, eps)\u001b[0m\n\u001b[0;32m     84\u001b[0m \u001b[1;33m\u001b[0m\u001b[0m\n\u001b[0;32m     85\u001b[0m         \u001b[1;31m# Decay the first and second moment running average coefficient\u001b[0m\u001b[1;33m\u001b[0m\u001b[1;33m\u001b[0m\u001b[1;33m\u001b[0m\u001b[0m\n\u001b[1;32m---> 86\u001b[1;33m         \u001b[0mexp_avg\u001b[0m\u001b[1;33m.\u001b[0m\u001b[0mmul_\u001b[0m\u001b[1;33m(\u001b[0m\u001b[0mbeta1\u001b[0m\u001b[1;33m)\u001b[0m\u001b[1;33m.\u001b[0m\u001b[0madd_\u001b[0m\u001b[1;33m(\u001b[0m\u001b[0mgrad\u001b[0m\u001b[1;33m,\u001b[0m \u001b[0malpha\u001b[0m\u001b[1;33m=\u001b[0m\u001b[1;36m1\u001b[0m \u001b[1;33m-\u001b[0m \u001b[0mbeta1\u001b[0m\u001b[1;33m)\u001b[0m\u001b[1;33m\u001b[0m\u001b[1;33m\u001b[0m\u001b[0m\n\u001b[0m\u001b[0;32m     87\u001b[0m         \u001b[0mexp_avg_sq\u001b[0m\u001b[1;33m.\u001b[0m\u001b[0mmul_\u001b[0m\u001b[1;33m(\u001b[0m\u001b[0mbeta2\u001b[0m\u001b[1;33m)\u001b[0m\u001b[1;33m.\u001b[0m\u001b[0maddcmul_\u001b[0m\u001b[1;33m(\u001b[0m\u001b[0mgrad\u001b[0m\u001b[1;33m,\u001b[0m \u001b[0mgrad\u001b[0m\u001b[1;33m.\u001b[0m\u001b[0mconj\u001b[0m\u001b[1;33m(\u001b[0m\u001b[1;33m)\u001b[0m\u001b[1;33m,\u001b[0m \u001b[0mvalue\u001b[0m\u001b[1;33m=\u001b[0m\u001b[1;36m1\u001b[0m \u001b[1;33m-\u001b[0m \u001b[0mbeta2\u001b[0m\u001b[1;33m)\u001b[0m\u001b[1;33m\u001b[0m\u001b[1;33m\u001b[0m\u001b[0m\n\u001b[0;32m     88\u001b[0m         \u001b[1;32mif\u001b[0m \u001b[0mamsgrad\u001b[0m\u001b[1;33m:\u001b[0m\u001b[1;33m\u001b[0m\u001b[1;33m\u001b[0m\u001b[0m\n",
      "\u001b[1;31mKeyboardInterrupt\u001b[0m: "
     ]
    }
   ],
   "source": [
    "stats_data = np.empty([6,20],dtype=object)\n",
    "Hessians = np.empty([6,20],dtype=object)\n",
    "optimize_method = torch.optim.Adam\n",
    "lr_list = [0.001,0.0025,0.005,0.0075,0.01,0.05]\n",
    "use_bn = True\n",
    "seed_list = list(range(20))\n",
    "for ii, lr in enumerate(lr_list):\n",
    "    for ll, seed in enumerate(seed_list):\n",
    "        print(optimize_method,lr,seed)\n",
    "        my_model,stats_data[ii,ll] = train_model(use_bn = use_bn, lr = lr, optimize_method = optimize_method, seed = seed)\n",
    "        Hessians[ii,ll] = H_fro_approx(my_model,use_bn = use_bn, seed = seed)\n",
    "        print(Hessians[ii,ll])\n",
    "        np.save(\"experiment_results/hessians_lr.npy\",Hessians)\n",
    "        np.save(\"experiment_results/stats_data_lr.npy\",stats_data)"
   ]
  },
  {
   "cell_type": "code",
   "execution_count": 31,
   "id": "911077c2",
   "metadata": {},
   "outputs": [
    {
     "data": {
      "image/png": "[encoded data removed]",
      "text/plain": [
       "<Figure size 432x288 with 1 Axes>"
      ]
     },
     "metadata": {
      "needs_background": "light"
     },
     "output_type": "display_data"
    }
   ],
   "source": [
    "hessians_lr = np.load(\"experiment_results/hessians_lr.npy\", allow_pickle=True)\n",
    "stats_data_lr = np.load(\"experiment_results/stats_data_lr.npy\", allow_pickle=True)\n",
    "\n",
    "labels_lr = [\"lr 0.001\", \"lr 0.0025\", \"lr 0.005\", \"lr 0.0075\", \"lr 0.01\", \"lr 0.05\"]\n",
    "hessian_mean = []\n",
    "test_acc_mean = []\n",
    "for lr_index in range(len(labels_lr)-1):\n",
    "    hessian_list = []\n",
    "    test_acc_list = []\n",
    "    for ii, stat in enumerate(stats_data_lr[lr_index]):\n",
    "        if type(stat) == str:\n",
    "            continue\n",
    "        if (stat[0]<3000 or stat[1]<=0.0015):\n",
    "            test_acc_list.append(stat[-1])\n",
    "            hessian_list.append(hessians_lr[lr_index,ii])\n",
    "    plt.scatter(hessian_list,test_acc_list,label = labels_lr[lr_index],alpha = 0.5)\n",
    "    hessian_mean.append(np.mean(hessian_list))\n",
    "    test_acc_mean.append(np.mean(test_acc_list))\n",
    "\n",
    "plt.gca().set_prop_cycle(None)\n",
    "for lr_index in range(len(labels_lr)-1):\n",
    "    plt.scatter(hessian_mean[lr_index], test_acc_mean[lr_index], marker =\"X\",s = 150)\n",
    "#plt.legend(bbox_to_anchor=(1, 1))\n",
    "plt.legend()\n",
    "plt.xlabel('Hessian norm')\n",
    "plt.ylabel('Test accuracy')\n",
    "plt.savefig(\"figures/lr.png\",dpi=200,bbox_inches='tight')"
   ]
  },
  {
   "cell_type": "code",
   "execution_count": null,
   "id": "db7e3a80",
   "metadata": {},
   "outputs": [],
   "source": []
  }
 ],
 "metadata": {
  "kernelspec": {
   "display_name": "Python 3 (ipykernel)",
   "language": "python",
   "name": "python3"
  },
  "language_info": {
   "codemirror_mode": {
    "name": "ipython",
    "version": 3
   },
   "file_extension": ".py",
   "mimetype": "text/x-python",
   "name": "python",
   "nbconvert_exporter": "python",
   "pygments_lexer": "ipython3",
   "version": "3.8.12"
  }
 },
 "nbformat": 4,
 "nbformat_minor": 5
}
